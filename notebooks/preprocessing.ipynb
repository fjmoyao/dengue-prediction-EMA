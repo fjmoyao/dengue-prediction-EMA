{
 "cells": [
  {
   "cell_type": "code",
   "execution_count": 1,
   "metadata": {},
   "outputs": [],
   "source": [
    "#Se importan las librerias\n",
    "import os \n",
    "import pandas as pd\n",
    "from epiweeks import Week\n"
   ]
  },
  {
   "cell_type": "code",
   "execution_count": 2,
   "metadata": {},
   "outputs": [],
   "source": [
    "#Se lee el archivo\n",
    "pdir = os.path.abspath(os.path.join(os.getcwd(), os.pardir))\n",
    "raw_dir = os.path.join(pdir,\"data\",\"raw\")\n",
    "data_dir = os.path.join(raw_dir,\"dengue_data_all_municipalities.csv\")\n",
    "raw = pd.read_csv(data_dir)"
   ]
  },
  {
   "cell_type": "code",
   "execution_count": 3,
   "metadata": {},
   "outputs": [],
   "source": [
    "#Columnas a transformar \n",
    "pop_cols = [x for x in raw.columns if \"Population2\" in x]\n",
    "cases_cols = [x for x in raw.columns if \"Cases2\" in x]\n",
    "temp_cols = [x for x in raw.columns if \"TEMPERATURE\" in x]\n",
    "prec_cols = [x for x in raw.columns if \"PRECIPITATION\" in x]\n",
    "weeks_cols = [x for x in raw.columns if \"/w\" in x]"
   ]
  },
  {
   "cell_type": "code",
   "execution_count": 4,
   "metadata": {},
   "outputs": [
    {
     "name": "stderr",
     "output_type": "stream",
     "text": [
      "C:\\Users\\franc\\AppData\\Local\\Temp\\ipykernel_11940\\696078585.py:51: FutureWarning: The default value of numeric_only in DataFrameGroupBy.sum is deprecated. In a future version, numeric_only will default to False. Either specify numeric_only or select only columns which should be valid for the function.\n",
      "  df_cases_month = df_w.groupby([\"Municipality code\",\t\"Municipality\", \"Year\", \"Month_num\"]).sum().reset_index()\n"
     ]
    }
   ],
   "source": [
    "# Se tranforman las columnas correspondientes de wide a long \n",
    "#--Population\n",
    "df_pop = pd.melt(raw, id_vars=['Municipality code', 'Municipality'], value_vars=pop_cols,\n",
    "        var_name='Year', value_name='Population')\n",
    "df_pop[\"Year\"] = df_pop.Year.str.strip(\"Population\")\n",
    "#raw.drop(columns=pop_cols, inplace=True)\n",
    "\n",
    "#--Cases_year\n",
    "df_cases_year = pd.melt(raw, id_vars=['Municipality code', 'Municipality'], value_vars=cases_cols,\n",
    "        var_name='Year', value_name='Cases_per_Year')\n",
    "df_cases_year[\"Year\"] = df_cases_year.Year.str.strip(\"Cases\")\n",
    "raw.drop(columns=cases_cols, inplace=True)\n",
    "\n",
    "#--Temperature\n",
    "df_temp = pd.melt(raw, id_vars=['Municipality code', 'Municipality'], value_vars=temp_cols,\n",
    "        var_name='Year_month', value_name='TEMPERATURE')\n",
    "df_temp[\"Year_month\"] = df_temp.Year_month.str.strip(\"TEMPERATURE_\")\n",
    "raw.drop(columns=temp_cols, inplace=True)\n",
    "\n",
    "df_temp[\"Year\"] = df_temp.Year_month.str.split(\"_\").str[1]\n",
    "df_temp[\"Month\"] = df_temp.Year_month.str.split(\"_\").str[0]\n",
    "dict_months = {'jan':1, 'feb':2, 'mar':3, 'apr':4, 'may':5, 'jun':6, 'jul':7, 'aug':8, 'sep':9,\n",
    "       'oct':10, 'nov':11, 'dec':12}\n",
    "df_temp[\"Month_num\"] = df_temp[\"Month\"].replace(dict_months)\n",
    "df_temp[\"Year\"] =\"20\" + df_temp.Year\n",
    "df_temp.drop(columns=[\"Year_month\", \"Month\"], inplace = True)\n",
    "\n",
    "#--Precipitation\n",
    "df_prec = pd.melt(raw, id_vars=['Municipality code', 'Municipality'], value_vars=prec_cols,\n",
    "        var_name='Year_month', value_name='PRECIPITATION')\n",
    "df_prec[\"Year_month\"] = df_prec.Year_month.str.strip(\"PRECIPITATION_\")\n",
    "raw.drop(columns=prec_cols, inplace=True)\n",
    "\n",
    "df_prec[\"Year\"] = df_prec.Year_month.str.split(\"_\").str[1]\n",
    "df_prec[\"Month\"] = df_prec.Year_month.str.split(\"_\").str[0]\n",
    "dict_months = {'jan':1, 'feb':2, 'mar':3, 'apr':4, 'may':5, 'jun':6, 'jul':7, 'aug':8, 'sep':9,\n",
    "       'oct':10, 'nov':11, 'dec':12}\n",
    "df_prec[\"Month_num\"] = df_prec[\"Month\"].replace(dict_months)\n",
    "df_prec[\"Year\"] =\"20\" + df_prec.Year\n",
    "df_prec.drop(columns=[\"Year_month\", \"Month\"], inplace = True)\n",
    "\n",
    "#-- Cases month\n",
    "df_w = pd.melt(raw, id_vars=['Municipality code', 'Municipality'], value_vars=weeks_cols,\n",
    "        var_name='Year_month', value_name='Cases')\n",
    "df_w[\"week\"] = df_w.Year_month.str.split(\"/w\").str[1]\n",
    "df_w[\"Year\"] = df_w.Year_month.str.split(\"/w\").str[0]\n",
    "df_w['Year_month'] = df_w.Year_month.str.replace(\"/w\",\"\")\n",
    "raw.drop(columns=weeks_cols, inplace=True)\n",
    "df_w['week'] = df_w['Year_month'].apply(lambda x: Week.fromstring(x).enddate())\n",
    "df_w['Month_num'] = pd.to_datetime(df_w['week']).dt.month\n",
    "df_cases_month = df_w.groupby([\"Municipality code\",\t\"Municipality\", \"Year\", \"Month_num\"]).sum().reset_index()"
   ]
  },
  {
   "cell_type": "code",
   "execution_count": 5,
   "metadata": {},
   "outputs": [],
   "source": [
    "df = pd.melt(raw, id_vars=raw.drop(columns=pop_cols).columns, value_vars=pop_cols,\n",
    "        var_name='Year', value_name='Population')\n",
    "df[\"Year\"] = df_pop.Year.str.strip(\"Population\")\n",
    "df.drop(columns=\"Population\", inplace=True)"
   ]
  },
  {
   "cell_type": "code",
   "execution_count": 6,
   "metadata": {},
   "outputs": [],
   "source": [
    "#Se unen los dataframes en uno solo \n",
    "df_all = pd.merge(df_cases_month, df_prec, how=\"left\", on=[\"Municipality code\",\t\"Municipality\", \"Year\", \"Month_num\"])\n",
    "df_all = pd.merge(df_all, df_temp, how=\"left\", on=[\"Municipality code\",\t\"Municipality\", \"Year\", \"Month_num\"])\n",
    "df_all = pd.merge(df_all, df_pop, how=\"left\", on=[\"Municipality code\",\t\"Municipality\", \"Year\"])\n",
    "df_all = pd.merge(df_all, df, how=\"left\", on=[\"Municipality code\",\t\"Municipality\", \"Year\"])"
   ]
  },
  {
   "cell_type": "code",
   "execution_count": 7,
   "metadata": {},
   "outputs": [
    {
     "data": {
      "text/plain": [
       "(174876, 33)"
      ]
     },
     "execution_count": 7,
     "metadata": {},
     "output_type": "execute_result"
    }
   ],
   "source": [
    "df_all.shape"
   ]
  },
  {
   "cell_type": "code",
   "execution_count": 8,
   "metadata": {},
   "outputs": [],
   "source": [
    "trusted_dir = os.path.join(pdir,\"data\",\"trusted\")"
   ]
  },
  {
   "cell_type": "code",
   "execution_count": 9,
   "metadata": {},
   "outputs": [],
   "source": [
    "#Se exporta el nuevo dataset\n",
    "df_all.to_csv(os.path.join(trusted_dir, \"dengue_data.csv\"), index=False)"
   ]
  },
  {
   "cell_type": "code",
   "execution_count": null,
   "metadata": {},
   "outputs": [],
   "source": []
  }
 ],
 "metadata": {
  "kernelspec": {
   "display_name": "Python 3.10.4 ('ema')",
   "language": "python",
   "name": "python3"
  },
  "language_info": {
   "codemirror_mode": {
    "name": "ipython",
    "version": 3
   },
   "file_extension": ".py",
   "mimetype": "text/x-python",
   "name": "python",
   "nbconvert_exporter": "python",
   "pygments_lexer": "ipython3",
   "version": "3.10.4"
  },
  "orig_nbformat": 4,
  "vscode": {
   "interpreter": {
    "hash": "b382e7b3f9f5b86f456e5ae7ccba3f76519a71ef4dc5dc3f15d1f039966a16fa"
   }
  }
 },
 "nbformat": 4,
 "nbformat_minor": 2
}
